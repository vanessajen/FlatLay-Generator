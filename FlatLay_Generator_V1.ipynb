{
  "nbformat": 4,
  "nbformat_minor": 0,
  "metadata": {
    "colab": {
      "provenance": [],
      "authorship_tag": "ABX9TyNfUX7AQx4A8T3bqMBI7+OK",
      "include_colab_link": true
    },
    "kernelspec": {
      "name": "python3",
      "display_name": "Python 3"
    },
    "language_info": {
      "name": "python"
    }
  },
  "cells": [
    {
      "cell_type": "markdown",
      "metadata": {
        "id": "view-in-github",
        "colab_type": "text"
      },
      "source": [
        "<a href=\"https://colab.research.google.com/github/vanessajen/FlatLay-Generator/blob/main/FlatLay_Generator_V1.ipynb\" target=\"_parent\"><img src=\"https://colab.research.google.com/assets/colab-badge.svg\" alt=\"Open In Colab\"/></a>"
      ]
    },
    {
      "cell_type": "code",
      "source": [
        "# ControlNet Flatten V2 - Auto detect input, full process\n",
        "\n",
        "# --- Step 0: Install necessary libraries ---\n",
        "!pip install diffusers transformers accelerate controlnet_aux --upgrade\n",
        "\n",
        "# --- Step 0.5: Set environment + create folders automatically ---\n",
        "import os\n",
        "os.environ[\"DIFFUSERS_FLAX_AVAILABLE\"] = \"0\"\n",
        "\n",
        "input_folder = \"/content/drive/MyDrive/FlatLay_Input\"\n",
        "output_folder = \"/content/drive/MyDrive/FlatLay_Demo_Output\"\n",
        "\n",
        "os.makedirs(input_folder, exist_ok=True)\n",
        "os.makedirs(output_folder, exist_ok=True)\n",
        "\n",
        "# Check for available input images (jpg, png)\n",
        "input_images = [f for f in os.listdir(input_folder) if f.lower().endswith(('.png', '.jpg', '.jpeg'))]\n",
        "\n",
        "if not input_images:\n",
        "    print(f\"⚡️ Chưa có ảnh input. Vui lòng upload ảnh (.jpg/.png) vào: {input_folder}\")\n",
        "else:\n",
        "    print(f\"🔍 Tìm thấy {len(input_images)} ảnh trong {input_folder}: {input_images}\")\n",
        "\n",
        "# --- Step 1: Import Python libraries ---\n",
        "import torch\n",
        "from diffusers import StableDiffusionControlNetPipeline, ControlNetModel, UniPCMultistepScheduler\n",
        "from controlnet_aux import CannyDetector\n",
        "from PIL import Image\n",
        "import numpy as np\n",
        "\n",
        "# --- Step 2: Load ControlNet model ---\n",
        "controlnet = ControlNetModel.from_pretrained(\n",
        "    \"lllyasviel/sd-controlnet-canny\", torch_dtype=torch.float16\n",
        ")\n",
        "\n",
        "pipe = StableDiffusionControlNetPipeline.from_pretrained(\n",
        "    \"runwayml/stable-diffusion-v1-5\",\n",
        "    controlnet=controlnet,\n",
        "    safety_checker=None,\n",
        "    torch_dtype=torch.float16\n",
        ")\n",
        "\n",
        "pipe.scheduler = UniPCMultistepScheduler.from_config(pipe.scheduler.config)\n",
        "pipe.to(\"cuda\")\n",
        "\n",
        "# --- Step 3: Canny Edge Detector ---\n",
        "canny = CannyDetector()\n",
        "\n",
        "# --- Step 4: Function to process flat lay ---\n",
        "def process_flatlay(input_image_path, prompt, output_path):\n",
        "    image = Image.open(input_image_path)\n",
        "    image = image.convert(\"RGB\")\n",
        "    image = image.resize((512, 512))  # Resize về 512x512 cho chuẩn model\n",
        "\n",
        "    # Create canny edge map\n",
        "    canny_image = canny(image)\n",
        "\n",
        "    # Generate output image\n",
        "    generated_image = pipe(\n",
        "        prompt,\n",
        "        num_inference_steps=30,\n",
        "        guidance_scale=9.0,\n",
        "        image=canny_image\n",
        "    ).images[0]\n",
        "\n",
        "    # Save the result\n",
        "    generated_image.save(output_path)\n",
        "\n",
        "# --- Step 5: Run on all input images ---\n",
        "prompt = \"flat lay minimal pastel background, photography, highly detailed, white background\"\n",
        "\n",
        "for img_name in input_images:\n",
        "    input_path = os.path.join(input_folder, img_name)\n",
        "    output_name = os.path.splitext(img_name)[0] + \"_flatlay.png\"\n",
        "    output_path = os.path.join(output_folder, output_name)\n",
        "\n",
        "    print(f\"\\u2728 Đang xử lý: {img_name}\")\n",
        "    process_flatlay(input_path, prompt, output_path)\n",
        "    print(f\"\\u2705 Đã lưu ảnh: {output_name}\")\n",
        "\n",
        "print(\"\\n\\ud83c\\udf3f\\u2728 Hoàn tất tạo ảnh Flat Lay!\")\n"
      ],
      "metadata": {
        "id": "c8U7BZGNZ7tA"
      },
      "execution_count": null,
      "outputs": []
    }
  ]
}