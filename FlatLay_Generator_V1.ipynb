{
  "nbformat": 4,
  "nbformat_minor": 0,
  "metadata": {
    "colab": {
      "provenance": [],
      "authorship_tag": "ABX9TyMb5DRKCXCyP+xtv8UwrmaS",
      "include_colab_link": true
    },
    "kernelspec": {
      "name": "python3",
      "display_name": "Python 3"
    },
    "language_info": {
      "name": "python"
    }
  },
  "cells": [
    {
      "cell_type": "markdown",
      "metadata": {
        "id": "view-in-github",
        "colab_type": "text"
      },
      "source": [
        "<a href=\"https://colab.research.google.com/github/vanessajen/FlatLay-Generator/blob/main/FlatLay_Generator_V1.ipynb\" target=\"_parent\"><img src=\"https://colab.research.google.com/assets/colab-badge.svg\" alt=\"Open In Colab\"/></a>"
      ]
    },
    {
      "cell_type": "code",
      "execution_count": null,
      "metadata": {
        "id": "KVrRUTC-NYYP"
      },
      "outputs": [],
      "source": [
        "# ControlNet Flatten V1 - Chuẩn không lỗi\n",
        "\n",
        "# --- Bờớc 0: Disable FLAX trước khi import diffusers ---\n",
        "import os\n",
        "os.environ[\"DIFFUSERS_FLAX_AVAILABLE\"] = \"0\"\n",
        "\n",
        "# --- Bờớc 1: Import thư viện ---\n",
        "import torch\n",
        "from diffusers import StableDiffusionControlNetPipeline, ControlNetModel, UniPCMultistepScheduler\n",
        "from controlnet_aux import CannyDetector\n",
        "from PIL import Image\n",
        "import numpy as np\n",
        "\n",
        "# --- Bờớc 2: Load model ControlNet ---\n",
        "controlnet = ControlNetModel.from_pretrained(\n",
        "    \"lllyasviel/sd-controlnet-canny\", torch_dtype=torch.float16\n",
        ")\n",
        "\n",
        "pipe = StableDiffusionControlNetPipeline.from_pretrained(\n",
        "    \"runwayml/stable-diffusion-v1-5\", controlnet=controlnet, safety_checker=None, torch_dtype=torch.float16\n",
        ")\n",
        "\n",
        "pipe.scheduler = UniPCMultistepScheduler.from_config(pipe.scheduler.config)\n",
        "pipe.enable_xformers_memory_efficient_attention()\n",
        "pipe.to(\"cuda\")\n",
        "\n",
        "# --- Bờớc 3: Khai báo Canny Detector ---\n",
        "canny = CannyDetector()\n",
        "\n",
        "# --- Bờớc 4: Xử lý 1 ảnh mẫu ---\n",
        "\n",
        "def process_flatlay(input_image_path, prompt, output_path):\n",
        "    image = Image.open(input_image_path)\n",
        "    image = image.convert(\"RGB\")\n",
        "    image = image.resize((512, 512))\n",
        "\n",
        "    # Tính toán canny map\n",
        "    canny_image = canny(image)\n",
        "\n",
        "    # Generate ảnh\n",
        "    generated_image = pipe(\n",
        "        prompt,\n",
        "        num_inference_steps=30,\n",
        "        guidance_scale=9.0,\n",
        "        image=canny_image\n",
        "    ).images[0]\n",
        "\n",
        "    # Lưu ảnh\n",
        "    generated_image.save(output_path)\n",
        "\n",
        "# --- Bờớc 5: Demo ---\n",
        "\n",
        "input_image_path = \"/content/drive/MyDrive/FlatLay_Input/sample.jpg\"  # Chỉnh lại đường dẫn ảnh input\n",
        "output_image_path = \"/content/drive/MyDrive/FlatLay_Demo_Output/output_sample.jpg\"\n",
        "prompt = \"flat lay minimal pastel background, photography, highly detailed, white background\"\n",
        "\n",
        "process_flatlay(input_image_path, prompt, output_image_path)\n",
        "\n",
        "print(\"🌿✨ Done!\")\n"
      ]
    }
  ]
}