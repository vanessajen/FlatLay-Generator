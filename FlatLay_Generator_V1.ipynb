{
  "nbformat": 4,
  "nbformat_minor": 0,
  "metadata": {
    "colab": {
      "provenance": [],
      "gpuType": "T4",
      "authorship_tag": "ABX9TyNfZlfNOecayqmvVJKP2Hfi",
      "include_colab_link": true
    },
    "kernelspec": {
      "name": "python3",
      "display_name": "Python 3"
    },
    "language_info": {
      "name": "python"
    },
    "accelerator": "GPU"
  },
  "cells": [
    {
      "cell_type": "markdown",
      "metadata": {
        "id": "view-in-github",
        "colab_type": "text"
      },
      "source": [
        "<a href=\"https://colab.research.google.com/github/vanessajen/FlatLay-Generator/blob/main/FlatLay_Generator_V1.ipynb\" target=\"_parent\"><img src=\"https://colab.research.google.com/assets/colab-badge.svg\" alt=\"Open In Colab\"/></a>"
      ]
    },
    {
      "cell_type": "code",
      "source": [
        "# Install libraries first\n",
        "!pip install transformers diffusers accelerate torch torchvision timm bitsandbytes sentencepiece --quiet\n",
        "\n",
        "# --- Import thư viện cần thiết ---\n",
        "import torch\n",
        "from transformers import BlipProcessor, BlipForConditionalGeneration\n",
        "from PIL import Image\n",
        "import os\n",
        "from google.colab import files\n",
        "\n",
        "# --- Bước 1: Upload ảnh input ---\n",
        "uploaded = files.upload()\n",
        "\n",
        "# Lưu danh sách ảnh\n",
        "image_paths = list(uploaded.keys())\n",
        "\n",
        "# --- Bước 2: Load model BLIP-2 ---\n",
        "processor = BlipProcessor.from_pretrained(\"Salesforce/blip-image-captioning-base\")\n",
        "model = BlipForConditionalGeneration.from_pretrained(\"Salesforce/blip-image-captioning-base\").to(\"cpu\")\n",
        "\n",
        "# --- Bước 3: Hàm mô tả flat lay chuẩn aesthetic ---\n",
        "def generate_flatlay_prompt(image_path):\n",
        "    raw_image = Image.open(image_path).convert('RGB')\n",
        "\n",
        "    # Xử lý ảnh\n",
        "    inputs = processor(raw_image, return_tensors=\"pt\").to(\"cpu\")\n",
        "\n",
        "    # Gen mô tả cơ bản\n",
        "    out = model.generate(**inputs, max_new_tokens=100)\n",
        "    caption = processor.decode(out[0], skip_special_tokens=True)\n",
        "\n",
        "    # Áp template aesthetic mà chị yêu cầu\n",
        "    detailed_prompt = f\"Flat lay photography, minimal white background, Pinterest aesthetic. Outfit details: {caption}. Items organized harmoniously with spacing, matching tone palette, top to bottom layout like a lookbook on canvas. No shadow, clean and polished visual.\"\n",
        "\n",
        "    return detailed_prompt\n",
        "\n",
        "# --- Bước 4: Generate prompt cho từng ảnh ---\n",
        "for img_path in image_paths:\n",
        "    prompt = generate_flatlay_prompt(img_path)\n",
        "    print(\"\\n\\U0001F4DD Prompt cho ảnh:\", img_path)\n",
        "    print(prompt)\n",
        "    print(\"-\"*100)\n"
      ],
      "metadata": {
        "id": "DwIeohL9_Gbc"
      },
      "execution_count": null,
      "outputs": []
    }
  ]
}