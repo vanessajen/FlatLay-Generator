{
  "nbformat": 4,
  "nbformat_minor": 0,
  "metadata": {
    "colab": {
      "provenance": [],
      "gpuType": "T4",
      "authorship_tag": "ABX9TyOr4/uoAt2Nb8PjM6c2AnFg",
      "include_colab_link": true
    },
    "kernelspec": {
      "name": "python3",
      "display_name": "Python 3"
    },
    "language_info": {
      "name": "python"
    },
    "accelerator": "GPU"
  },
  "cells": [
    {
      "cell_type": "markdown",
      "metadata": {
        "id": "view-in-github",
        "colab_type": "text"
      },
      "source": [
        "<a href=\"https://colab.research.google.com/github/vanessajen/FlatLay-Generator/blob/main/FlatLay_Generator_V1.ipynb\" target=\"_parent\"><img src=\"https://colab.research.google.com/assets/colab-badge.svg\" alt=\"Open In Colab\"/></a>"
      ]
    },
    {
      "cell_type": "code",
      "source": [
        "# --- Upload ảnh ---\n",
        "from google.colab import files\n",
        "from PIL import Image\n",
        "import io\n",
        "import torchvision.transforms as transforms\n",
        "import torch\n",
        "import torchvision.models as models\n",
        "import torch.nn as nn\n",
        "\n",
        "# Bước 1: Upload ảnh\n",
        "uploaded = files.upload()\n",
        "\n",
        "# Bước 2: Xử lý ảnh\n",
        "uploaded_image = None\n",
        "for file_name in uploaded.keys():\n",
        "    uploaded_image = Image.open(io.BytesIO(uploaded[file_name])).convert(\"RGB\")\n",
        "    uploaded_image.save(\"/content/input_image.jpg\")  # Lưu lại để bước sau dùng\n",
        "    print(f\"✅ Đã upload ảnh: {file_name}\")\n",
        "\n",
        "# --- Bước 3: Gen prompt mô tả chi tiết ---\n",
        "\n",
        "# Gợi ý đơn giản bằng cách sử dụng mô hình image captioning nhẹ\n",
        "!pip install transformers --quiet\n",
        "from transformers import BlipProcessor, BlipForConditionalGeneration\n",
        "\n",
        "processor = BlipProcessor.from_pretrained(\"Salesforce/blip-image-captioning-base\")\n",
        "model = BlipForConditionalGeneration.from_pretrained(\"Salesforce/blip-image-captioning-base\")\n",
        "\n",
        "raw_image = Image.open(\"/content/input_image.jpg\").convert('RGB')\n",
        "\n",
        "text = \"a detailed flat lay description including each item, style, colors, accessories, with minimal white background\"\n",
        "inputs = processor(raw_image, text, return_tensors=\"pt\")\n",
        "\n",
        "out = model.generate(**inputs, max_length=150)\n",
        "prompt = processor.decode(out[0], skip_special_tokens=True)\n",
        "\n",
        "print(\"\\n🌸 Prompt flat lay chi tiết:\")\n",
        "print(prompt)\n"
      ],
      "metadata": {
        "id": "6bP75qlq-NYH"
      },
      "execution_count": null,
      "outputs": []
    }
  ]
}