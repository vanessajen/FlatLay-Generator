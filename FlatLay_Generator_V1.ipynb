{
  "nbformat": 4,
  "nbformat_minor": 0,
  "metadata": {
    "colab": {
      "provenance": [],
      "authorship_tag": "ABX9TyN+aZaSjx07pK7SS0871wYF",
      "include_colab_link": true
    },
    "kernelspec": {
      "name": "python3",
      "display_name": "Python 3"
    },
    "language_info": {
      "name": "python"
    }
  },
  "cells": [
    {
      "cell_type": "markdown",
      "metadata": {
        "id": "view-in-github",
        "colab_type": "text"
      },
      "source": [
        "<a href=\"https://colab.research.google.com/github/vanessajen/FlatLay-Generator/blob/main/FlatLay_Generator_V1.ipynb\" target=\"_parent\"><img src=\"https://colab.research.google.com/assets/colab-badge.svg\" alt=\"Open In Colab\"/></a>"
      ]
    },
    {
      "cell_type": "code",
      "source": [
        "# ControlNet Flat Lay with Upload Button UI\n",
        "\n",
        "# --- Step 0: Install and Import Libraries ---\n",
        "!pip install diffusers==0.20.2 transformers accelerate xformers openai -q\n",
        "\n",
        "import torch\n",
        "from diffusers import StableDiffusionPipeline\n",
        "from PIL import Image\n",
        "import numpy as np\n",
        "import io\n",
        "from google.colab import files\n",
        "import ipywidgets as widgets\n",
        "from IPython.display import display\n",
        "\n",
        "# --- Step 1: Load Model ---\n",
        "pipe = StableDiffusionPipeline.from_pretrained(\n",
        "    \"runwayml/stable-diffusion-v1-5\",\n",
        "    torch_dtype=torch.float16,\n",
        "    safety_checker=None\n",
        ")\n",
        "pipe.enable_xformers_memory_efficient_attention()\n",
        "pipe.to(\"cuda\")\n",
        "\n",
        "# --- Step 2: Upload Image Button ---\n",
        "uploader = widgets.FileUpload(accept='image/*', multiple=False)\n",
        "display(uploader)\n",
        "\n",
        "# --- Step 3: Generate Flat Lay ---\n",
        "def on_upload_change(change):\n",
        "    for filename, fileinfo in uploader.value.items():\n",
        "        # Load the uploaded image\n",
        "        img = Image.open(io.BytesIO(fileinfo['content'])).convert(\"RGB\").resize((512, 512))\n",
        "\n",
        "        # Create a simple prompt based on input (can be more sophisticated)\n",
        "        prompt = \"flat lay, minimal style, clean background, detailed textures\"\n",
        "\n",
        "        # Generate output image\n",
        "        generated_image = pipe(prompt, num_inference_steps=30, guidance_scale=9.0).images[0]\n",
        "\n",
        "        # Show results\n",
        "        display(generated_image)\n",
        "\n",
        "        # Save to file\n",
        "        generated_image.save(f\"/content/flatlay_output.jpg\")\n",
        "        print(\"\\u2728 Flat lay generated and saved as flatlay_output.jpg!\")\n",
        "\n",
        "uploader.observe(on_upload_change, names='value')\n"
      ],
      "metadata": {
        "id": "JwdM4kGITUsR"
      },
      "execution_count": null,
      "outputs": []
    }
  ]
}