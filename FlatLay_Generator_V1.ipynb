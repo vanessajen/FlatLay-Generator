{
  "nbformat": 4,
  "nbformat_minor": 0,
  "metadata": {
    "colab": {
      "provenance": [],
      "gpuType": "T4",
      "authorship_tag": "ABX9TyNFzjI0wZ5yTpSe8Tm79Onf",
      "include_colab_link": true
    },
    "kernelspec": {
      "name": "python3",
      "display_name": "Python 3"
    },
    "language_info": {
      "name": "python"
    },
    "accelerator": "GPU"
  },
  "cells": [
    {
      "cell_type": "markdown",
      "metadata": {
        "id": "view-in-github",
        "colab_type": "text"
      },
      "source": [
        "<a href=\"https://colab.research.google.com/github/vanessajen/FlatLay-Generator/blob/main/FlatLay_Generator_V1.ipynb\" target=\"_parent\"><img src=\"https://colab.research.google.com/assets/colab-badge.svg\" alt=\"Open In Colab\"/></a>"
      ]
    },
    {
      "cell_type": "code",
      "source": [
        "# ControlNet Flatten V2 - Chuẩn Diffusers mới nhất\n",
        "\n",
        "# --- Bước 0: Import thư viện cần thiết ---\n",
        "!pip install diffusers transformers accelerate controlnet_aux --upgrade\n",
        "\n",
        "# --- Bước 0.5: Set môi trường và tạo folder tự động ---\n",
        "import os\n",
        "os.environ[\"DIFFUSERS_FLAX_AVAILABLE\"] = \"0\"\n",
        "\n",
        "input_folder = \"/content/drive/MyDrive/FlatLay_Input\"\n",
        "output_folder = \"/content/drive/MyDrive/FlatLay_Demo_Output\"\n",
        "\n",
        "os.makedirs(input_folder, exist_ok=True)\n",
        "os.makedirs(output_folder, exist_ok=True)\n",
        "\n",
        "# --- Bước 1: Import thư viện Python ---\n",
        "import torch\n",
        "from diffusers import StableDiffusionControlNetPipeline, ControlNetModel, UniPCMultistepScheduler\n",
        "from controlnet_aux import CannyDetector\n",
        "from PIL import Image\n",
        "import numpy as np\n",
        "\n",
        "# --- Bước 2: Load model ControlNet ---\n",
        "controlnet = ControlNetModel.from_pretrained(\n",
        "    \"lllyasviel/sd-controlnet-canny\", torch_dtype=torch.float16\n",
        ")\n",
        "\n",
        "pipe = StableDiffusionControlNetPipeline.from_pretrained(\n",
        "    \"runwayml/stable-diffusion-v1-5\",\n",
        "    controlnet=controlnet,\n",
        "    safety_checker=None,\n",
        "    torch_dtype=torch.float16\n",
        ")\n",
        "\n",
        "pipe.scheduler = UniPCMultistepScheduler.from_config(pipe.scheduler.config)\n",
        "pipe.to(\"cuda\")\n",
        "\n",
        "# --- Bước 3: Khai báo Canny Detector ---\n",
        "canny = CannyDetector()\n",
        "\n",
        "# --- Bước 4: Hàm xử lý ảnh ---\n",
        "def process_flatlay(input_image_path, prompt, output_path):\n",
        "    image = Image.open(input_image_path)\n",
        "    image = image.convert(\"RGB\")\n",
        "    image = image.resize((512, 512))\n",
        "\n",
        "    # Tính toán canny map\n",
        "    canny_image = canny(image)\n",
        "\n",
        "    # Generate ảnh\n",
        "    generated_image = pipe(\n",
        "        prompt,\n",
        "        num_inference_steps=30,\n",
        "        guidance_scale=9.0,\n",
        "        image=canny_image\n",
        "    ).images[0]\n",
        "\n",
        "    # Lưu ảnh\n",
        "    generated_image.save(output_path)\n",
        "\n",
        "# --- Bước 5: Quét toàn bộ ảnh và xử lý ---\n",
        "prompt = \"flat lay minimal pastel background, photography, highly detailed, white background\"\n",
        "\n",
        "has_input = False\n",
        "for filename in os.listdir(input_folder):\n",
        "    if filename.endswith(\".jpg\") or filename.endswith(\".png\"):\n",
        "        has_input = True\n",
        "        input_image_path = os.path.join(input_folder, filename)\n",
        "        output_image_name = filename.split('.')[0] + \"_flatlay.png\"\n",
        "        output_image_path = os.path.join(output_folder, output_image_name)\n",
        "\n",
        "        process_flatlay(input_image_path, prompt, output_image_path)\n",
        "        print(f\"✅ Đã gen ảnh: {output_image_name}\")\n",
        "\n",
        "if not has_input:\n",
        "    print(f\"⚡️ Chưa có ảnh input. Vui lòng upload ảnh (.jpg/.png) vào: {input_folder}\")\n",
        "else:\n",
        "    print(\"🌿✨ Done!\")\n"
      ],
      "metadata": {
        "id": "Fdbycvs7eZw7"
      },
      "execution_count": null,
      "outputs": []
    }
  ]
}